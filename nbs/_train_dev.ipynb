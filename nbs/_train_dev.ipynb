{
 "cells": [
  {
   "cell_type": "code",
   "execution_count": 1,
   "metadata": {},
   "outputs": [],
   "source": [
    "import sys, os\n",
    "sys.path.insert(0, \"..\")"
   ]
  },
  {
   "cell_type": "code",
   "execution_count": 2,
   "metadata": {},
   "outputs": [],
   "source": [
    "from ai_ben.train import get_batch\n",
    "from chess import Chess\n",
    "from ai_ben.ai import Agent, Plumbing\n",
    "from ai_ben.model import TransformerModel\n",
    "from ai_ben.config import Config"
   ]
  },
  {
   "cell_type": "code",
   "execution_count": 3,
   "metadata": {},
   "outputs": [],
   "source": [
    "import pandas as pd\n",
    "\n",
    "import random\n",
    "\n",
    "from copy import deepcopy\n",
    "from tqdm import tqdm"
   ]
  },
  {
   "cell_type": "code",
   "execution_count": 4,
   "metadata": {},
   "outputs": [],
   "source": [
    "game_name=\"test\"\n",
    "epoch=0 \n",
    "train=False\n",
    "active_model='model-active.pth.tar'\n",
    "new_model='model-new.pth.tar'\n",
    "search_amount=50\n",
    "max_depth=5\n",
    "best_of=5"
   ]
  },
  {
   "cell_type": "code",
   "execution_count": 5,
   "metadata": {},
   "outputs": [],
   "source": [
    "if (epoch+1) % best_of == 0:\n",
    "    a_colour = random.choice(['w', 'b'])\n",
    "elif (epoch+1) % 2 == 0:\n",
    "    a_colour = 'b'\n",
    "else:\n",
    "    a_colour = 'w'"
   ]
  },
  {
   "cell_type": "code",
   "execution_count": 6,
   "metadata": {},
   "outputs": [],
   "source": [
    "if a_colour == 'w':\n",
    "    w_bot = deepcopy(Agent(search_amount=search_amount, max_depth=max_depth, train=train, model=active_model))\n",
    "    b_bot = deepcopy(Agent(search_amount=search_amount, max_depth=max_depth, train=train, model=new_model))\n",
    "elif a_colour == 'b':\n",
    "    w_bot = deepcopy(Agent(search_amount=search_amount, max_depth=max_depth, train=train, model=new_model))\n",
    "    b_bot = deepcopy(Agent(search_amount=search_amount, max_depth=max_depth, train=train, model=active_model))"
   ]
  },
  {
   "cell_type": "code",
   "execution_count": 7,
   "metadata": {},
   "outputs": [],
   "source": [
    "log = []\n",
    "plumbing = Plumbing()\n",
    "chess_game = Chess()"
   ]
  },
  {
   "cell_type": "code",
   "execution_count": 16,
   "metadata": {},
   "outputs": [
    {
     "data": {
      "text/plain": [
       "1"
      ]
     },
     "execution_count": 16,
     "metadata": {},
     "output_type": "execute_result"
    }
   ],
   "source": [
    "chess_game.p_move"
   ]
  },
  {
   "cell_type": "code",
   "execution_count": 19,
   "metadata": {},
   "outputs": [
    {
     "data": {
      "text/plain": [
       "('', '')"
      ]
     },
     "execution_count": 19,
     "metadata": {},
     "output_type": "execute_result"
    }
   ],
   "source": [
    "w_bot.choose_action(chess_game)"
   ]
  },
  {
   "cell_type": "code",
   "execution_count": 28,
   "metadata": {},
   "outputs": [
    {
     "data": {
      "text/plain": [
       "('G1', 'h3')"
      ]
     },
     "execution_count": 28,
     "metadata": {},
     "output_type": "execute_result"
    }
   ],
   "source": [
    "w_bot.choose_action(Chess())"
   ]
  },
  {
   "cell_type": "code",
   "execution_count": 29,
   "metadata": {},
   "outputs": [
    {
     "data": {
      "text/plain": [
       "[]"
      ]
     },
     "execution_count": 29,
     "metadata": {},
     "output_type": "execute_result"
    }
   ],
   "source": [
    "w_bot.log"
   ]
  },
  {
   "cell_type": "code",
   "execution_count": 30,
   "metadata": {},
   "outputs": [
    {
     "data": {
      "text/plain": [
       "(3, 5)"
      ]
     },
     "execution_count": 30,
     "metadata": {},
     "output_type": "execute_result"
    }
   ],
   "source": [
    "cur_pos"
   ]
  },
  {
   "cell_type": "code",
   "execution_count": null,
   "metadata": {},
   "outputs": [],
   "source": [
    "def make_move(bot, game):\n",
    "    f, t = bot.choose_action(game)\n",
    "    "
   ]
  },
  {
   "cell_type": "code",
   "execution_count": 8,
   "metadata": {},
   "outputs": [
    {
     "name": "stderr",
     "output_type": "stream",
     "text": [
      "16it [02:33,  9.58s/it]\n"
     ]
    }
   ],
   "source": [
    "pbar = tqdm()\n",
    "while True:\n",
    "    if chess_game.p_move == 1:\n",
    "        cur,next = w_bot.choose_action(chess_game)\n",
    "        w_log = pd.DataFrame(w_bot.log).drop_duplicates()\n",
    "        if len(w_log) > 0:\n",
    "            if 'imag_log' not in locals():\n",
    "                imag_log = pd.DataFrame(columns=list(w_log.columns.values))\n",
    "            for k,v in w_log.groupby(['value0','value1','value2']):\n",
    "                t_log = pd.DataFrame(log)\n",
    "                for i,x in enumerate(k):\n",
    "                    t_log[f'value{i}'] = [x]*len(t_log)\n",
    "                t_log = pd.concat([t_log, v], ignore_index=True)\n",
    "                imag_log = pd.concat([imag_log, t_log], ignore_index = True) \n",
    "            imag_log = imag_log.drop_duplicates()\n",
    "    else:\n",
    "        cur,next = b_bot.choose_action(chess_game)\n",
    "        b_log = pd.DataFrame(b_bot.log).drop_duplicates()\n",
    "        if len(b_log) > 0:\n",
    "            if 'imag_log' not in locals():\n",
    "                imag_log = pd.DataFrame(columns=list(b_log.columns.values))\n",
    "            for k,v in b_log.groupby(['value0','value1','value2']):\n",
    "                t_log = pd.DataFrame(log)\n",
    "                for i,x in enumerate(k):\n",
    "                    t_log[f'value{i}'] = [x]*len(t_log)\n",
    "                t_log = pd.concat([t_log, v], ignore_index=True)\n",
    "                imag_log = pd.concat([imag_log, t_log], ignore_index = True) \n",
    "            imag_log = imag_log.drop_duplicates()\n",
    "    #print(f'w {cur.lower()}-->{next.lower()} | EPOCH:{epoch} BOARD:{game_name} MOVE:{len(log)} HASH:{chess_game.EPD_hash()}\\n') if chess_game.p_move > 0 else print(f'b {cur.lower()}-->{next.lower()} | EPOCH:{epoch} BOARD:{game_name} MOVE:{len(log)} HASH:{chess_game.EPD_hash()}\\n')\n",
    "    enc_game = plumbing.encode_state(chess_game)\n",
    "    \n",
    "    if chess_game.move(cur, next) == False:\n",
    "        valid = False\n",
    "    else:\n",
    "        valid = True\n",
    "        cur_pos = chess_game.board_2_array(cur)\n",
    "        next_pos = chess_game.board_2_array(next)\n",
    "        log.append({**{f'state{i}':float(s) for i, s in enumerate(enc_game[0])},\n",
    "                    **{f'action{x}':1 if x == ((cur_pos[0]+(cur_pos[1]*8))*64)+(next_pos[0]+(next_pos[1]*8)) else 0 for x in range(4096)}})\n",
    "    if (chess_game.p_move == 1) or (chess_game.p_move == -1):\n",
    "        state = chess_game.check_state(chess_game.EPD_hash())\n",
    "        if state == '50M' or state == '3F':\n",
    "            state = [0, 1, 0] #Auto tie\n",
    "        elif state == 'PP':\n",
    "            chess_game.pawn_promotion(n_part='Q') #Auto queen\n",
    "        if state != [0, 1, 0]:\n",
    "            state = chess_game.is_end()\n",
    "    else:\n",
    "        state = chess_game.is_end()\n",
    "        if state == [0, 0, 0]:\n",
    "            if chess_game.check_state(chess_game.EPD_hash()) == 'PP':\n",
    "                chess_game.pawn_promotion()\n",
    "    if sum(state) > 0:\n",
    "        #print(f'FINISHED | EPOCH:{epoch} BOARD:{game_name} MOVE:{len(log)} STATE:{state}\\n')\n",
    "        game_train_data = pd.DataFrame(log)\n",
    "        for i, x in enumerate(state):\n",
    "            game_train_data[f'value{i}'] = [x]*len(log)\n",
    "        if 'imag_log' in locals():\n",
    "            game_train_data = pd.concat([game_train_data, imag_log], ignore_index = True) \n",
    "        game_train_data = game_train_data.astype(float)\n",
    "        break\n",
    "    if valid == True:\n",
    "        chess_game.p_move = chess_game.p_move * (-1)\n",
    "    \n",
    "    pbar.update()\n",
    "\n",
    "pbar.close()"
   ]
  },
  {
   "cell_type": "code",
   "execution_count": 10,
   "metadata": {},
   "outputs": [
    {
     "data": {
      "text/plain": [
       "(16, 4164)"
      ]
     },
     "execution_count": 10,
     "metadata": {},
     "output_type": "execute_result"
    }
   ],
   "source": [
    "game_train_data.shape"
   ]
  }
 ],
 "metadata": {
  "kernelspec": {
   "display_name": ".venv",
   "language": "python",
   "name": "python3"
  },
  "language_info": {
   "codemirror_mode": {
    "name": "ipython",
    "version": 3
   },
   "file_extension": ".py",
   "mimetype": "text/x-python",
   "name": "python",
   "nbconvert_exporter": "python",
   "pygments_lexer": "ipython3",
   "version": "3.10.5"
  },
  "orig_nbformat": 4
 },
 "nbformat": 4,
 "nbformat_minor": 2
}
